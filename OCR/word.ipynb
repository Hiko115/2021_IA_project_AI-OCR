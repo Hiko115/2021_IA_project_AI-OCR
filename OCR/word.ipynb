{
 "cells": [
  {
   "cell_type": "code",
   "execution_count": null,
   "id": "aa5a1683",
   "metadata": {},
   "outputs": [],
   "source": [
    "import easyocr"
   ]
  },
  {
   "cell_type": "code",
   "execution_count": null,
   "id": "b6f9545f",
   "metadata": {},
   "outputs": [],
   "source": [
    "detection_threshold = 0.7"
   ]
  },
  {
   "cell_type": "code",
   "execution_count": null,
   "id": "b8603132",
   "metadata": {},
   "outputs": [],
   "source": [
    "image = image_np_with_detections\n",
    "width = image.shape[1]\n",
    "height = image.shape[0]\n",
    "scores = list(filter(lambda x: x> detection_threshold, detections['detection_scores']))\n",
    "boxes = detections['detection_boxes'][:len(scores)]\n",
    "classes = detections['detection_classes'][:len(scores)]"
   ]
  },
  {
   "cell_type": "code",
   "execution_count": null,
   "id": "a61b134e",
   "metadata": {},
   "outputs": [],
   "source": [
    "temp = []\n",
    "for idx, box in enumerate(boxes):\n",
    "    roi = box*[height, width, height, width]\n",
    "    region = image[int(roi[0]):int(roi[2]),int(roi[1]):int(roi[3])]\n",
    "    reader = easyocr.Reader(['ch_tra', 'en'])\n",
    "    ocr_result = reader.readtext(region)\n",
    "    for result in ocr_result:\n",
    "        print(result[1])\n",
    "        temp.append(result[1])"
   ]
  },
  {
   "cell_type": "code",
   "execution_count": null,
   "id": "e5cba487",
   "metadata": {},
   "outputs": [],
   "source": [
    "result"
   ]
  },
  {
   "cell_type": "code",
   "execution_count": null,
   "id": "3ae3dc99",
   "metadata": {},
   "outputs": [],
   "source": [
    "print(temp)"
   ]
  },
  {
   "cell_type": "code",
   "execution_count": null,
   "id": "c427853d",
   "metadata": {},
   "outputs": [],
   "source": [
    "from functools import reduce\n",
    "print(reduce(lambda x,y:x+y,map(lambda x:x,temp)))"
   ]
  },
  {
   "cell_type": "code",
   "execution_count": null,
   "id": "cb175435",
   "metadata": {},
   "outputs": [],
   "source": [
    "list1 = ['alfa', 'bravo', 'charlie', 'delta']\n",
    "from functools import reduce\n",
    "print(reduce(lambda x,y:x+y,map(lambda x:x[0],list1)))"
   ]
  },
  {
   "cell_type": "code",
   "execution_count": null,
   "id": "2375a896",
   "metadata": {},
   "outputs": [],
   "source": [
    "product(temp)"
   ]
  },
  {
   "cell_type": "code",
   "execution_count": null,
   "id": "fe974404",
   "metadata": {},
   "outputs": [],
   "source": [
    "cv2.imshow('1', region)\n",
    "cv2.waitKey(0)\n",
    "cv2.destroyAllWindows()"
   ]
  },
  {
   "cell_type": "code",
   "execution_count": null,
   "id": "000ff0f1",
   "metadata": {},
   "outputs": [],
   "source": [
    "for result in ocr_result:\n",
    "    print(result[1])"
   ]
  }
 ],
 "metadata": {
  "kernelspec": {
   "display_name": "IA",
   "language": "python",
   "name": "ia"
  },
  "language_info": {
   "codemirror_mode": {
    "name": "ipython",
    "version": 3
   },
   "file_extension": ".py",
   "mimetype": "text/x-python",
   "name": "python",
   "nbconvert_exporter": "python",
   "pygments_lexer": "ipython3",
   "version": "3.8.8"
  }
 },
 "nbformat": 4,
 "nbformat_minor": 5
}

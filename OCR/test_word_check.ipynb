{
 "cells": [
  {
   "cell_type": "code",
   "execution_count": 160,
   "id": "b0223ebe",
   "metadata": {},
   "outputs": [],
   "source": [
    "import re\n",
    "import pandas as pd"
   ]
  },
  {
   "cell_type": "code",
   "execution_count": 43,
   "id": "b9cbe5e8",
   "metadata": {
    "scrolled": true
   },
   "outputs": [
    {
     "name": "stdout",
     "output_type": "stream",
     "text": [
      "Brand                       WOISOnS\n",
      "Total                         49.90\n",
      "Time              18/07/30 21:36:10\n",
      "Payment method          s7efi （HKDN\n",
      "Receipt ID                     Null\n",
      "dtype: object\n"
     ]
    }
   ],
   "source": [
    "new_temp = [b , new_m , t, p, r_id]\n",
    "idx = ['Brand', 'Total', 'Time', 'Payment method', 'Receipt ID']\n",
    "new_temp = pd.Series(new_temp)\n",
    "new_temp.index = idx\n",
    "print(new_temp)\n",
    "new_temp.to_csv('D:\\\\IA\\\\OCR\\\\OCR_Result.csv')"
   ]
  },
  {
   "cell_type": "code",
   "execution_count": 440,
   "id": "432ee132",
   "metadata": {
    "scrolled": true
   },
   "outputs": [
    {
     "name": "stdout",
     "output_type": "stream",
     "text": [
      "payment:98%\n",
      "8/06/2019\n",
      "22·36：48\n"
     ]
    }
   ],
   "source": [
    "print(temp[2])\n",
    "print(temp[3])\n",
    "print(temp[4])"
   ]
  },
  {
   "cell_type": "code",
   "execution_count": 540,
   "id": "4c7ac5fa",
   "metadata": {},
   "outputs": [],
   "source": [
    "import re\n",
    "str=\"aksjnekljfklen\"\n",
    "temp = re.sub('[a-zA-Z]','1',str)"
   ]
  },
  {
   "cell_type": "code",
   "execution_count": 541,
   "id": "826182da",
   "metadata": {},
   "outputs": [],
   "source": [
    "chinese = re.compile(u'[\\u4e00-\\u9fa5]+')\n",
    "eng = re.compile(u'[a-zA-Z]')"
   ]
  },
  {
   "cell_type": "code",
   "execution_count": 542,
   "id": "e658cc74",
   "metadata": {},
   "outputs": [],
   "source": [
    "temp = ['現金', '59.00', 'payment:98%', '8/06/2019', '22·36：48']"
   ]
  },
  {
   "cell_type": "code",
   "execution_count": 543,
   "id": "2c468db3",
   "metadata": {},
   "outputs": [],
   "source": [
    "totalChar=[\"HKD\",\"$\",\".\"]\n",
    "paymentMethod=[\"卡\",\"八\",\"octo\",\"pus\",\"MAS\",\"VI\",\"銀聯\",\"Unio\",\"現金\",\"Alipay\"]\n",
    "dateCheck=[\"/\",\"-\", \":\",\"：\"]\n",
    "    \n",
    "def loop (temp):\n",
    "    brand_temp=True\n",
    "    b,t,p,Id,d=[],[],[],[],[]\n",
    "    \n",
    "    for i in range(len(temp)):\n",
    "        digitcheck=\"\".join(x for x in temp[i] if x.isdigit())\n",
    "        if any(c in temp[i] for c in totalChar):\n",
    "            t.append(i)\n",
    "            brand_temp=False\n",
    "            continue\n",
    "        if any(c in temp[i] for c in paymentMethod):\n",
    "            p.append(i)\n",
    "            brand_temp=False\n",
    "            continue\n",
    "        if any(c in temp[i] for c in dateCheck):\n",
    "            d.append(i)\n",
    "            brand_temp=False\n",
    "            continue\n",
    "        if len(digitcheck)>=4 and len(temp[i])>4:\n",
    "            Id.append(i)\n",
    "            brand_temp=False\n",
    "            \n",
    "        if (brand_temp):\n",
    "            b.append(i)\n",
    "            \n",
    "    return b,t,p,Id,d\n",
    "\n",
    "b,t,p,Id,d=loop(temp)"
   ]
  },
  {
   "cell_type": "code",
   "execution_count": 544,
   "id": "be22efab",
   "metadata": {},
   "outputs": [],
   "source": [
    "def fix(a): \n",
    "    if int(len(a))==1:\n",
    "        for i in a:\n",
    "            a = temp[int(i)]\n",
    "    elif int(len(a)) >=1:\n",
    "        for i in a:\n",
    "            a += temp[int(i)]+\" \"\n",
    "    else:\n",
    "        a = \"Null\"\n",
    "    return a"
   ]
  },
  {
   "cell_type": "code",
   "execution_count": 546,
   "id": "74754e85",
   "metadata": {},
   "outputs": [
    {
     "data": {
      "text/plain": [
       "'59.00'"
      ]
     },
     "execution_count": 546,
     "metadata": {},
     "output_type": "execute_result"
    }
   ],
   "source": [
    "fix(t)"
   ]
  },
  {
   "cell_type": "code",
   "execution_count": 12,
   "id": "f71b8507",
   "metadata": {},
   "outputs": [],
   "source": [
    "chinese = re.compile(u'[\\u4e00-\\u9fa5]+')\n",
    "eng = re.compile(u'[a-zA-Z]')"
   ]
  },
  {
   "cell_type": "code",
   "execution_count": 511,
   "id": "c13fa528",
   "metadata": {},
   "outputs": [
    {
     "name": "stdout",
     "output_type": "stream",
     "text": [
      "==================================================\n",
      "Photo: input.jpg\n",
      "Brand: Null\n",
      "Total: 59.00\n",
      "Time: payment:98% 8/06/2019 22·36：48 \n",
      "payment method: 現金\n",
      "Receipt ID: Null\n"
     ]
    }
   ],
   "source": [
    "new_b = \"\"\n",
    "if int(len(b))>=1:\n",
    "    for i in b:\n",
    "        new_b = (temp[int(i)])\n",
    "elif int(len(b)) >=1:\n",
    "    for i in b:\n",
    "        new_b += temp[int(i)]+\" \"\n",
    "else:\n",
    "    new_b = \"Null\"\n",
    "\n",
    "new_t = \"\"\n",
    "if int(len(t))>=1:\n",
    "    for i in t:\n",
    "        new_t = (temp[int(i)])\n",
    "elif int(len(t)) >=1:\n",
    "    for i in t:\n",
    "        new_t += temp[int(i)]+\" \"\n",
    "else:\n",
    "    new_t = \"Null\"\n",
    "\n",
    "new_p = \"\"\n",
    "if int(len(p))>=1:\n",
    "    for i in p:\n",
    "        new_p = (temp[int(i)])\n",
    "elif int(len(p)) >=1:\n",
    "    for i in p:\n",
    "        new_p += temp[int(i)]+\" \"\n",
    "else:\n",
    "    new_p = \"Null\"\n",
    "\n",
    "new_Id = \"\"\n",
    "if int(len(Id))>=1:\n",
    "    for i in Id:\n",
    "        new_Id = (temp[int(i)])\n",
    "elif int(len(Id)) >=1:\n",
    "    for i in Id:\n",
    "        new_Id += temp[int(i)]+\" \"\n",
    "else:\n",
    "    new_Id = \"Null\"\n",
    "\n",
    "new_d = \"\"\n",
    "if int(len(d)) == 1:\n",
    "    for i in d:\n",
    "        new_d = (temp[int(i)])\n",
    "elif int(len(d)) >=1:\n",
    "    for i in d:\n",
    "        new_d += temp[int(i)]+\" \"\n",
    "else:\n",
    "    new_d = \"Null\"\n",
    "\n",
    "\n",
    "new_nId = re.sub(chinese,\"\", new_Id)\n",
    "new_nt = re.sub(chinese,\"\",new_t)\n",
    "\n",
    "print(\"==================================================\") \n",
    "print(\"Photo: \" + x) \n",
    "print(\"Brand: \" + new_b )\n",
    "print(\"Total: \" + new_nt )\n",
    "print(\"Time: \" + new_dd )\n",
    "print(\"payment method: \" + new_p)\n",
    "print(\"Receipt ID: \" + new_dId)"
   ]
  },
  {
   "cell_type": "markdown",
   "id": "8b078d94",
   "metadata": {},
   "source": [
    "# New"
   ]
  },
  {
   "cell_type": "code",
   "execution_count": 87,
   "id": "ad83ecf6",
   "metadata": {},
   "outputs": [],
   "source": [
    "temp = ['現金', '59.00', 'payment:98%', '8/06/2019', '22·36：48']"
   ]
  },
  {
   "cell_type": "code",
   "execution_count": 63,
   "id": "b2674c89",
   "metadata": {},
   "outputs": [],
   "source": [
    "temp = ['ASTERCARL', '335504', '18/06/30', '179.sQ', '31：36%']"
   ]
  },
  {
   "cell_type": "code",
   "execution_count": 113,
   "id": "b52f84ae",
   "metadata": {},
   "outputs": [],
   "source": [
    "temp = ['Alipay', '3245.91', '18/08/19-18:12:52', 'S3685', '女仔資ILIPAY']"
   ]
  },
  {
   "cell_type": "code",
   "execution_count": 107,
   "id": "83362622",
   "metadata": {},
   "outputs": [],
   "source": [
    "temp = ['VISA', '線計', '3508.63', '206807', 'oosn18']"
   ]
  },
  {
   "cell_type": "code",
   "execution_count": 72,
   "id": "c5ffd671",
   "metadata": {},
   "outputs": [],
   "source": [
    "totalChar=[\"HKD\",\"$\",\".\"]\n",
    "paymentMethod=[\"卡\",\"八\",\"octo\",\"pus\",\"MAS\",\"VI\",\"銀聯\",\"Unio\",\"現金\",\"Alipay\"]\n",
    "dateCheck=[\"/\",\"-\", \":\",\"：\"]"
   ]
  },
  {
   "cell_type": "code",
   "execution_count": 73,
   "id": "b9a20238",
   "metadata": {},
   "outputs": [],
   "source": [
    "def digCheck(i):\n",
    "    digitcheck=\"\".join(x for x in temp[i] if x.isdigit())\n",
    "    return digitcheck"
   ]
  },
  {
   "cell_type": "code",
   "execution_count": 74,
   "id": "5abaa1fd",
   "metadata": {},
   "outputs": [],
   "source": [
    "def loop (temp):\n",
    "    brand_temp=True\n",
    "    b,t,p,Id,d=[],[],[],[],[]\n",
    "    \n",
    "    for i in range(len(temp)):\n",
    "        if any(c in temp[i] for c in totalChar):\n",
    "            t.append(i)\n",
    "            brand_temp=False\n",
    "            continue\n",
    "        if any(c in temp[i] for c in paymentMethod):\n",
    "            p.append(i)\n",
    "            brand_temp=False\n",
    "            continue\n",
    "        if any(c in temp[i] for c in dateCheck):\n",
    "            d.append(i)\n",
    "            brand_temp=False\n",
    "            continue\n",
    "        if len(digCheck(i))>=4 and len(temp[i])>4:\n",
    "            Id.append(i)\n",
    "            brand_temp=False\n",
    "            \n",
    "        if (brand_temp):\n",
    "            b.append(i)\n",
    "            \n",
    "    return b,t,p,Id,d"
   ]
  },
  {
   "cell_type": "code",
   "execution_count": 89,
   "id": "99743037",
   "metadata": {},
   "outputs": [
    {
     "data": {
      "text/plain": [
       "([], [1], [0], [], [2, 3, 4])"
      ]
     },
     "execution_count": 89,
     "metadata": {},
     "output_type": "execute_result"
    }
   ],
   "source": [
    "b,t,p,Id,d"
   ]
  },
  {
   "cell_type": "code",
   "execution_count": 103,
   "id": "2ce2510d",
   "metadata": {},
   "outputs": [],
   "source": [
    "def fix(a):\n",
    "    a2 =\"\"\n",
    "    if int(len(a))==1:\n",
    "        for i in a:\n",
    "            a = temp[int(i)]\n",
    "    elif int(len(a)) >=1:\n",
    "        for i in a:\n",
    "            a2 += temp[int(i)]+\" \"\n",
    "        return a2\n",
    "    else:\n",
    "        a = \"Null\"\n",
    "    return a"
   ]
  },
  {
   "cell_type": "code",
   "execution_count": 106,
   "id": "f09ef566",
   "metadata": {},
   "outputs": [
    {
     "data": {
      "text/plain": [
       "'Null'"
      ]
     },
     "execution_count": 106,
     "metadata": {},
     "output_type": "execute_result"
    }
   ],
   "source": [
    "fix(Id)"
   ]
  },
  {
   "cell_type": "code",
   "execution_count": 192,
   "id": "007301f8",
   "metadata": {},
   "outputs": [],
   "source": [
    "chinese = re.compile(u'[\\u4e00-\\u9fa5]+')\n",
    "eng = re.compile(u'[a-zA-Z]')"
   ]
  },
  {
   "cell_type": "code",
   "execution_count": 193,
   "id": "ee4eb762",
   "metadata": {},
   "outputs": [],
   "source": [
    "b,t,p,Id,d=loop(temp)"
   ]
  },
  {
   "cell_type": "code",
   "execution_count": 194,
   "id": "07e78ed9",
   "metadata": {
    "scrolled": false
   },
   "outputs": [
    {
     "name": "stdout",
     "output_type": "stream",
     "text": [
      "==================================================\n",
      "Photo: input.jpg\n",
      "Brand: Null\n",
      "Total: 59.00\n",
      "Time: payment:98% 8/06/2019 22·36：48 \n",
      "payment method: 現金\n",
      "Receipt ID: Null\n"
     ]
    }
   ],
   "source": [
    "new_b = \"\"\n",
    "if int(len(b))==1:\n",
    "    for i in b:\n",
    "        new_b = (temp[int(i)])\n",
    "elif int(len(b)) >=1:\n",
    "    for i in b:\n",
    "        new_b += temp[int(i)]+\" \"\n",
    "else:\n",
    "    new_b = \"Null\"\n",
    "\n",
    "new_t = \"\"\n",
    "if int(len(t))==1:\n",
    "    for i in t:\n",
    "        new_t = (temp[int(i)])\n",
    "elif int(len(t)) >=1:\n",
    "    for i in t:\n",
    "        new_t += temp[int(i)]+\" \"\n",
    "else:\n",
    "    new_t = \"Null\"\n",
    "\n",
    "new_p = \"\"\n",
    "if int(len(p))==1:\n",
    "    for i in p:\n",
    "        new_p = (temp[int(i)])\n",
    "elif int(len(p)) >=1:\n",
    "    for i in p:\n",
    "        new_p += temp[int(i)]+\" \"\n",
    "else:\n",
    "    new_p = \"Null\"\n",
    "\n",
    "new_Id = \"\"\n",
    "if int(len(Id))==1:\n",
    "    for i in Id:\n",
    "        new_Id = (temp[int(i)])\n",
    "elif int(len(Id)) >=1:\n",
    "    for i in Id:\n",
    "        new_Id += temp[int(i)]+\" \"\n",
    "else:\n",
    "    new_Id = \"Null\"\n",
    "\n",
    "new_d = \"\"\n",
    "if int(len(d)) == 1:\n",
    "    for i in d:\n",
    "        new_d = (temp[int(i)])\n",
    "elif int(len(d)) >=1:\n",
    "    for i in d:\n",
    "        new_d += temp[int(i)]+\" \"\n",
    "else:\n",
    "    new_d = \"Null\"\n",
    "\n",
    "new_dd = re.sub(chinese,\"\", new_d)\n",
    "new_dId = re.sub(chinese,\"\", new_Id)\n",
    "new_dt = re.sub(chinese,\"\", new_t)\n",
    "\n",
    "print(\"==================================================\") \n",
    "print(\"Photo: \" + x) \n",
    "print(\"Brand: \" + new_b )\n",
    "print(\"Total: \" + new_dt )\n",
    "print(\"Time: \" + new_dd )\n",
    "print(\"payment method: \" + new_p)\n",
    "print(\"Receipt ID: \" + new_dId)"
   ]
  },
  {
   "cell_type": "code",
   "execution_count": 195,
   "id": "8354ed7f",
   "metadata": {},
   "outputs": [],
   "source": [
    "temp = ['ASTERCARL', '335504', '18/06/30', '179.sQ', '31：36%']"
   ]
  },
  {
   "cell_type": "code",
   "execution_count": 211,
   "id": "021afd30",
   "metadata": {},
   "outputs": [],
   "source": [
    "temp = ['現金', '59.00', 'payment:98%', '8/06/2019', '22·36：48']"
   ]
  },
  {
   "cell_type": "code",
   "execution_count": 197,
   "id": "748f16fb",
   "metadata": {},
   "outputs": [],
   "source": [
    "temp = ['Alipay', '3245.91', '18/08/19-18:12:52', 'S3685', '女仔資ILIPAY']"
   ]
  },
  {
   "cell_type": "code",
   "execution_count": 198,
   "id": "fd2fc79e",
   "metadata": {},
   "outputs": [],
   "source": [
    "temp = ['VISA', '線計', '3508.63', '206807', 'oosn18']"
   ]
  },
  {
   "cell_type": "code",
   "execution_count": 212,
   "id": "90d23964",
   "metadata": {},
   "outputs": [],
   "source": [
    "b,t,p,Id,d=loop(temp)"
   ]
  },
  {
   "cell_type": "code",
   "execution_count": 213,
   "id": "a3f35a8e",
   "metadata": {},
   "outputs": [
    {
     "data": {
      "text/plain": [
       "([], [1], [0], [], [2, 3, 4])"
      ]
     },
     "execution_count": 213,
     "metadata": {},
     "output_type": "execute_result"
    }
   ],
   "source": [
    "b,t,p,Id,d"
   ]
  },
  {
   "cell_type": "code",
   "execution_count": 214,
   "id": "0997e575",
   "metadata": {},
   "outputs": [
    {
     "data": {
      "text/plain": [
       "'payment:98% 8/06/2019 22·36：48 '"
      ]
     },
     "execution_count": 214,
     "metadata": {},
     "output_type": "execute_result"
    }
   ],
   "source": [
    "fix(d)"
   ]
  },
  {
   "cell_type": "code",
   "execution_count": 215,
   "id": "2627e9bd",
   "metadata": {
    "scrolled": true
   },
   "outputs": [
    {
     "name": "stdout",
     "output_type": "stream",
     "text": [
      "==================================================\n",
      "Photo: input.jpg\n",
      "Brand: Null\n",
      "Total: 59.00\n",
      "Time: payment:98% 8/06/2019 22·36：48 \n",
      "payment method: 現金\n",
      "Receipt ID: Null\n"
     ]
    }
   ],
   "source": [
    "def fix(a):\n",
    "    a2 =\"\"\n",
    "    if int(len(a))==1:\n",
    "        for i in a:\n",
    "            a = temp[int(i)]\n",
    "    elif int(len(a)) >=1:\n",
    "        for i in a:\n",
    "            a2 += temp[int(i)]+\" \"\n",
    "        return a2\n",
    "    else:\n",
    "        a = \"Null\"\n",
    "    return a\n",
    "\n",
    "new_dd = re.sub(chinese,\"\", fix(d))\n",
    "new_dId = re.sub(chinese,\"\", fix(Id))\n",
    "new_dt = re.sub(chinese,\"\", fix(t))\n",
    "\n",
    "print(\"==================================================\") \n",
    "print(\"Photo: \" + x) \n",
    "print(\"Brand: \" + fix(b) )\n",
    "print(\"Total: \" + new_dt )\n",
    "print(\"Time: \" + new_dd )\n",
    "print(\"payment method: \" + fix(p))\n",
    "print(\"Receipt ID: \" + new_dId)"
   ]
  },
  {
   "cell_type": "code",
   "execution_count": 216,
   "id": "e4fb937c",
   "metadata": {
    "scrolled": true
   },
   "outputs": [
    {
     "name": "stdout",
     "output_type": "stream",
     "text": [
      "input.jpg\n",
      "Null\n",
      "payment:98% 8/06/2019 22·36：48 \n",
      "59.00\n",
      "現金\n",
      "Null\n"
     ]
    }
   ],
   "source": [
    "print(x)\n",
    "print(fix(b))\n",
    "print(new_dd)\n",
    "print(new_dt)\n",
    "print(fix(p))\n",
    "print(new_dId)"
   ]
  },
  {
   "cell_type": "code",
   "execution_count": 217,
   "id": "b6928ce3",
   "metadata": {},
   "outputs": [],
   "source": [
    "final_name = x\n",
    "final_brand = fix(b)\n",
    "final_total = new_dt\n",
    "final_date = new_dd\n",
    "final_pay = fix(p)\n",
    "final_ID = new_dId"
   ]
  },
  {
   "cell_type": "code",
   "execution_count": 218,
   "id": "abd01ca3",
   "metadata": {},
   "outputs": [],
   "source": [
    "import csv\n",
    "f = open(\"OCR_result.csv\", \"a\", newline=\"\")\n",
    "tup = (final_name,final_brand,final_total,final_date,final_pay,final_ID)\n",
    "w = csv.writer(f)\n",
    "w.writerow(tup)\n",
    "f.close()"
   ]
  },
  {
   "cell_type": "code",
   "execution_count": null,
   "id": "a84f8794",
   "metadata": {},
   "outputs": [],
   "source": []
  }
 ],
 "metadata": {
  "kernelspec": {
   "display_name": "Python 3",
   "language": "python",
   "name": "python3"
  },
  "language_info": {
   "codemirror_mode": {
    "name": "ipython",
    "version": 3
   },
   "file_extension": ".py",
   "mimetype": "text/x-python",
   "name": "python",
   "nbconvert_exporter": "python",
   "pygments_lexer": "ipython3",
   "version": "3.8.8"
  }
 },
 "nbformat": 4,
 "nbformat_minor": 5
}
